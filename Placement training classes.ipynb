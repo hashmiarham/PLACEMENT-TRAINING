{
 "cells": [
  {
   "cell_type": "markdown",
   "metadata": {},
   "source": [
    "**DATE: 08/06/2023**"
   ]
  },
  {
   "cell_type": "markdown",
   "metadata": {},
   "source": [
    "1. WAP TO INPUT A NUMBER AND STORE ALL ITS DIGITS IN AN ARRAY"
   ]
  },
  {
   "cell_type": "code",
   "execution_count": 12,
   "metadata": {},
   "outputs": [
    {
     "name": "stdout",
     "output_type": "stream",
     "text": [
      "These are the digits of the number in reversed order: [4, 3, 2, 1]\n",
      "Now, reversing the above array.........\n",
      "[1, 2, 3, 4]\n"
     ]
    }
   ],
   "source": [
    "num=1234\n",
    "arr=[]\n",
    "i=0\n",
    "while (num>0):\n",
    "    d=num%10\n",
    "    arr.insert(i,d)\n",
    "    num=num//10\n",
    "    i=i+1\n",
    "print(\"These are the digits of the number in reversed order:\",arr)\n",
    "print(\"Now, reversing the above array.........\")\n",
    "rev=[]\n",
    "for i in range(3,-1,-1):\n",
    "    rev.append(arr[i])\n",
    "print(rev)"
   ]
  },
  {
   "cell_type": "markdown",
   "metadata": {},
   "source": [
    "2. WAP TO CONVERT A NUMBER INTO ROMAN NUMERALS"
   ]
  },
  {
   "cell_type": "code",
   "execution_count": 13,
   "metadata": {},
   "outputs": [
    {
     "name": "stdout",
     "output_type": "stream",
     "text": [
      "Enter a number: 54\n",
      "Roman numeral representation: LIV\n"
     ]
    }
   ],
   "source": [
    "def convert_to_roman(num):\n",
    "    roman_numerals = {\n",
    "        1000: 'M',\n",
    "        900: 'CM',\n",
    "        500: 'D',\n",
    "        400: 'CD',\n",
    "        100: 'C',\n",
    "        90: 'XC',\n",
    "        50: 'L',\n",
    "        40: 'XL',\n",
    "        10: 'X',\n",
    "        9: 'IX',\n",
    "        5: 'V',\n",
    "        4: 'IV',\n",
    "        1: 'I'\n",
    "    }\n",
    "\n",
    "    roman = ''\n",
    "    for value, symbol in roman_numerals.items():\n",
    "        while num >= value:\n",
    "            roman += symbol\n",
    "            num -= value\n",
    "\n",
    "    return roman\n",
    "\n",
    "# Test the function\n",
    "number = int(input(\"Enter a number: \"))\n",
    "roman_number = convert_to_roman(number)\n",
    "print(\"Roman numeral representation:\", roman_number)\n"
   ]
  },
  {
   "cell_type": "markdown",
   "metadata": {},
   "source": [
    "**DATE: 09/06/2023**\n",
    "\n",
    "1: CONVERT DECIMAL TO BINARY"
   ]
  },
  {
   "cell_type": "code",
   "execution_count": 14,
   "metadata": {},
   "outputs": [
    {
     "name": "stdout",
     "output_type": "stream",
     "text": [
      "The binary for the number 12345 is: \n",
      "11000000111001"
     ]
    }
   ],
   "source": [
    "n=12345\n",
    "m=n\n",
    "b=\"\"\n",
    "while(n>0):\n",
    "    if(n%2==0):\n",
    "        b=b+\"0\"\n",
    "    else:\n",
    "        b=b+\"1\"\n",
    "    n=n//2\n",
    "#print(b)\n",
    "l=len(b)\n",
    "print(\"The binary for the number\",m,\"is: \")\n",
    "for i in range (l-1,-1,-1):\n",
    "    rd=b[i]\n",
    "    print(rd,end=\"\")\n",
    "    "
   ]
  },
  {
   "cell_type": "markdown",
   "metadata": {},
   "source": [
    "2: DECIMAL TO HEXA-DECIMAL"
   ]
  },
  {
   "cell_type": "code",
   "execution_count": 18,
   "metadata": {},
   "outputs": [
    {
     "name": "stdout",
     "output_type": "stream",
     "text": [
      "The hexadecimal for the number 941 is: \n",
      "3AD"
     ]
    }
   ],
   "source": [
    "n=941\n",
    "m=n\n",
    "b=\"\"\n",
    "while(n>0):\n",
    "    d=n%16\n",
    "    if(d<10):\n",
    "        b=b+str(d)\n",
    "    else:\n",
    "        if(d==10):\n",
    "            b=b+\"A\"\n",
    "        elif(d==11):\n",
    "            b=b+\"B\"\n",
    "        elif(d==12):\n",
    "            b=b+\"C\"\n",
    "        elif(d==13):\n",
    "            b=b+\"D\"\n",
    "        elif(d==14):\n",
    "            b=b+\"E\"\n",
    "        elif(d==15):\n",
    "            b=b+\"F\"\n",
    "    n=n//16\n",
    "#print(b)\n",
    "l=len(b)\n",
    "print(\"The hexadecimal for the number\",m,\"is: \")\n",
    "for i in range (l-1,-1,-1):\n",
    "    rd=b[i]\n",
    "    print(rd,end=\"\")"
   ]
  },
  {
   "cell_type": "markdown",
   "metadata": {},
   "source": [
    "3: MAXIMUM SUM SUBARRAY"
   ]
  },
  {
   "cell_type": "code",
   "execution_count": 36,
   "metadata": {},
   "outputs": [
    {
     "name": "stdout",
     "output_type": "stream",
     "text": [
      "Maximum sum Subarray is 7\n",
      "Start Index of window is 2\n",
      "End Index of window is 6\n",
      "4,-1,-2,1,5,"
     ]
    }
   ],
   "source": [
    "arr = [-2, -3, 4, -1, -2, 1, 5, -3]\n",
    "def max_sum_subarray(arr):\n",
    "    max_so_far=0\n",
    "    size=len(arr)\n",
    "    curr_sum=0\n",
    "    max_so_far=arr[0]\n",
    "    st=0;end=0;poi=0\n",
    "    for i in range(0,size):\n",
    "        curr_sum=curr_sum+arr[i]\n",
    "\n",
    "        if(max_so_far<curr_sum):\n",
    "            max_so_far=curr_sum\n",
    "            st=poi\n",
    "            en=i\n",
    "        if(curr_sum<0):\n",
    "            curr_sum = 0\n",
    "            poi=i+1\n",
    "    print(\"Maximum sum Subarray is\",max_so_far)\n",
    "    print(\"Start Index of window is\",st)\n",
    "    print(\"End Index of window is\",en)\n",
    "    for j in range(st,en+1):\n",
    "        print(arr[j],end=\",\")\n",
    "    \n",
    "max_sum_subarray(arr)"
   ]
  },
  {
   "cell_type": "markdown",
   "metadata": {},
   "source": [
    "4: ROTATE ARRAY K NUMBER OF TIMES\n",
    "INPUT: [1,2,3,4,5,6]\n",
    "OUTPUT: [6,5,4,1,2,3]"
   ]
  },
  {
   "cell_type": "code",
   "execution_count": 43,
   "metadata": {},
   "outputs": [
    {
     "name": "stdout",
     "output_type": "stream",
     "text": [
      "[3, 4, 5, 6, 1, 2]\n"
     ]
    }
   ],
   "source": [
    "arr=[1,2,3,4,5,6]\n",
    "nr=[]\n",
    "k=2\n",
    "l=len(arr)\n",
    "for i in range(k,l,1):\n",
    "    d=arr[i]\n",
    "    nr.append(d)\n",
    "for j in range(0,k,1):\n",
    "    d=arr[j]\n",
    "    nr.append(d)\n",
    "print(nr)\n",
    "    "
   ]
  },
  {
   "cell_type": "markdown",
   "metadata": {},
   "source": [
    "5: BUTTERFLY PATTERN PRINTING"
   ]
  },
  {
   "cell_type": "code",
   "execution_count": 50,
   "metadata": {},
   "outputs": [
    {
     "name": "stdout",
     "output_type": "stream",
     "text": [
      "*        *\n",
      "**      **\n",
      "***    ***\n",
      "****  ****\n",
      "**********\n",
      "**********\n",
      "****  ****\n",
      "***    ***\n",
      "**      **\n",
      "*        *\n"
     ]
    }
   ],
   "source": [
    "r = 5\n",
    "for i in range(1, r+1):\n",
    "    print(\"*\"*i, end=\"\")\n",
    "    print(\" \"*(r-i)*2, end=\"\")\n",
    "    print(\"*\"*i)\n",
    "for i in range(r,0,-1):\n",
    "    print(\"*\"*i, end=\"\")\n",
    "    print(\" \"*(r-i)*2, end=\"\")\n",
    "    print(\"*\"*i)    \n"
   ]
  },
  {
   "cell_type": "code",
   "execution_count": null,
   "metadata": {},
   "outputs": [],
   "source": []
  }
 ],
 "metadata": {
  "kernelspec": {
   "display_name": "Python 3 (ipykernel)",
   "language": "python",
   "name": "python3"
  },
  "language_info": {
   "codemirror_mode": {
    "name": "ipython",
    "version": 3
   },
   "file_extension": ".py",
   "mimetype": "text/x-python",
   "name": "python",
   "nbconvert_exporter": "python",
   "pygments_lexer": "ipython3",
   "version": "3.9.13"
  }
 },
 "nbformat": 4,
 "nbformat_minor": 2
}
